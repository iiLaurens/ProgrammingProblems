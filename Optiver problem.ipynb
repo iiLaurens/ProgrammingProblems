{
 "cells": [
  {
   "cell_type": "markdown",
   "metadata": {},
   "source": [
    "# Calvin's problem\n",
    "```Calvin has to cross several signals when he walks from his home to school. Each of these signals operate independently. They alternate every 80 seconds between green light and red light. At each signal, there is a counter display that tells him how long it will be before the current signal light changes. Calvin has a magic wand which lets him turn a signal from red to green instantaneously. However, this wand comes with limited battery life, so he can use it only for a specified number of times.\n",
    "a. If the total number of signals is 2 and Calvin can use his magic wand only once, then what is the expected waiting time at the signals when Calvin optimally walks from his home to school?\n",
    "b. What if the number of signals is 3 and Calvin can use his magic wand only once?\n",
    "c. Can you write a code that takes as inputs the number of signals and the number of times Calvin can use his magic wand, and outputs the expected waiting time?``` \n",
    "\n",
    "------------------------ \n",
    "This is a recursive problem, as we will find out. To make the problem easier to analyse, we will consider the the time that can be saved by using the magic wand compared to not having a magic wand.\n",
    "\n",
    "Let $n$ be the number of signals and $m$ will be the number of times the wand can be used. Clearly only the problems with $n \\geq m > 0$ will be considered. Let $S^{(n,m)}$ be the total time saved for Calvin given that his route contains $n$ traffic lights and his wand holds $m$ charges. We like to find the maximum expected total time save, $\\mathbb{E} S^{(n,m)}$.\n",
    "\n",
    "### Trivial solutions\n",
    "It is immediately clear that if $m=0$, then no time can be saved at any of the traffic lights and thus by definition <br> $\\qquad \\mathbb{E} S^{(n,m)} = 0,\\qquad \\text{if } m = 0.$<br> Another elementary case is $n \\leq m$. In that case Calvin can use his wand at every traffic light. The expected time he saves per traffic light is $0.5\\frac{80}{2} ^{*}$ and thus the expected time that can be saved in total is <br> $ \\qquad \\mathbb{E} S^{(n,m)} = 0.5n \\frac{80}{2}, \\qquad \\text{if } n \\leq m.$\n",
    "\n",
    "### The general solution\n",
    "Now consider the remaining general case with $n > m$ so that Calvin already has to decide carefully whether to use his wand or not at the first traffic light. Let $t$ represent the timer he sees on the traffic light. For the purpose of this problem it is easier to assume that if the traffic light is already green that by definition $t=0$. Now suppose that Calvin stands in front of the first traffic light, we can distinguish two cases:\n",
    "1. Use the wand at the first traffic light. The time savings for the first traffic light is then sure to be $t$.\n",
    "2. Do not use the wand at the first traffic light. No time is saved at this traffic light.\n",
    "\n",
    "Here, $X$ is the time that is saved at the first traffic light, depending on the choice of Calvin. Then, by the law of total expectation the expected total time save would be <br>$ \\qquad \\mathbb{E} S^{(n,m)} = \\mathbb{P} ( \\text{case 1} ) \\cdot \\mathbb{E} \\left( S^{(n,m)} \\mid \\text{case 1} \\right) + \\mathbb{P} ( \\text{case 2} ) \\cdot \\mathbb{E} ( S^{(n,m)} \\mid \\text{case 2} )$<br>\n",
    "and because the same reduced problem occurs after this traffic light, it follows that <br>$ \\qquad \\mathbb{E} \\left( S^{(n,m)} \\mid \\text{case 1} \\right) = \\mathbb{E} \\left( t \\mid \\text{case 1} \\right) +  \\mathbb{E} \\left( S^{(n-1,m-1)} \\right)$,\n",
    "<br> and <br>$ \\qquad \\mathbb{E} \\left( S^{(n,m)} \\mid \\text{case 2} \\right) =  0 +  \\mathbb{E} \\left( S^{(n-1,m)} \\right)$.\n",
    "\n",
    "Now remains how Calvin should decide on using the wand. Clearly, there must be a minimum threshold for $t$ that Calvin encounters at the first traffic light for which Calvin chooses to use the wand. Suppose the treshold is $0 \\leq T^{(n,m)} \\leq 80$. Then we have that$^{**}$ <br>$ \\qquad \\mathbb{P} ( \\text{case 2} ) =  \\mathbb{P} \\left( t \\leq T^{(n,m)}\\right) = 0.5 \\left(1 + \\frac{T^{(n,m)}}{80} \\right)$, <br> and <br>$ \\qquad \\mathbb{P} ( \\text{case 1} ) = 1 - \\mathbb{P} ( \\text{case 2} ) = 0.5 \\left(1 - \\frac{T^{(n,m)}}{80} \\right)$.<br>\n",
    "Given, that case 1 implies $t > T^{(n,m)}$ it is also possible to derive that $^{***}$ <br> $ \\qquad \\mathbb{E} \\left( t \\mid \\text{case 1} \\right) = \\frac{T^{(n,m)} + 80}{2}$.\n",
    "\n",
    "So, given a threshhold $T^{(n,m)}$, the expected total time saved with the help of the wand is finally <br>$ \\qquad \\mathbb{E} S^{(n,m)} = 0.5 \\left(1 - \\frac{T^{(n,m)}}{80} \\right) \\left( \\frac{T^{(n,m)} + 80}{2} + \\mathbb{E} \\left( S^{(n-1,m-1)} \\right) \\right) + 0.5 \\left(1 + \\frac{T^{(n,m)}}{80} \\right) \\mathbb{E} \\left( S^{(n-1,m)} \\right)$. <br> Solving using FOC to find that the optimal threshold is <br> $ \\qquad T^{(n,m)}_* = \\mathbb{E} \\left( S^{(n-1,m)} \\right) - \\mathbb{E} \\left( S^{(n-1,m-1)} \\right).$ <br>\n",
    "Hence, the optimal solution is a solely recursive problem. \n",
    "\n",
    "### The final solution\n",
    "The question asked for the optimal waiting time, but we only have calculated the time that can optimally be saved by Calvin. The actual solution is simple. Simply take the optimal saving time without the wand and substract the time that can optimally be saved with the wand. This results in: $$ \\text{solution} = \\frac{80}{2} 0.5 n - \\mathbb{E} S^{(n,m)}_* = \\mathbb{E} S^{(n,n)}_* - \\mathbb{E} S^{(n,m)}_*. $$\n",
    "The code below implements the recursive formulas to find the solution.\n",
    "\n",
    "<br><br>\n",
    "$^{*}$ Clearly a traffic light is either red or green. If already green no time is saved, but if red (with probability half) on average the time save is $80/2$. \n",
    "<br>$^{**}$ The light is either already green with probability 0.5, or the light is green and $t < T$ with probability $0.5 \\frac{T}{80}$.\n",
    "<br>$^{***}$ Given that the light is red and the treshold is T, then the encountered traffic light timer is uniformly distributed from T to 80. The expectation is thus $\\frac{T + 80}{2}$. \n"
   ]
  },
  {
   "cell_type": "code",
   "execution_count": 1,
   "metadata": {
    "collapsed": false
   },
   "outputs": [],
   "source": [
    "def OptTimeSave(n,m):\n",
    "    assert m >= 0 or n >= 0, 'Invalid input (negative)'\n",
    "    \n",
    "    if m == 0:\n",
    "        return 0\n",
    "    elif n <= m:\n",
    "        return 0.5 * n * 80.0 / 2.0\n",
    "    else:\n",
    "        a = OptTimeSave(n-1,m-1)\n",
    "        b = OptTimeSave(n-1,m)\n",
    "        T = b - a\n",
    "        return 0.5 * (1.0 - T/80.0) * ((T + 80.0)/2.0 + a) + 0.5 * (1.0 + T / 80.0) * b\n",
    "\n",
    "def OptWaitingTime(n,m):\n",
    "    print('Calvins optimal waiting time is: %.3f' % (OptTimeSave(n,n) - OptTimeSave(n,m)))\n",
    "    "
   ]
  },
  {
   "cell_type": "code",
   "execution_count": 2,
   "metadata": {
    "collapsed": false
   },
   "outputs": [
    {
     "name": "stdout",
     "output_type": "stream",
     "text": [
      "Calvins optimal waiting time is: 8.750\n"
     ]
    }
   ],
   "source": [
    "OptWaitingTime(2,1)"
   ]
  },
  {
   "cell_type": "code",
   "execution_count": 3,
   "metadata": {
    "collapsed": false
   },
   "outputs": [
    {
     "name": "stdout",
     "output_type": "stream",
     "text": [
      "Calvins optimal waiting time is: 21.323\n"
     ]
    }
   ],
   "source": [
    "OptWaitingTime(3,1)"
   ]
  }
 ],
 "metadata": {
  "kernelspec": {
   "display_name": "Anaconda (Python 3)",
   "language": "python",
   "name": "anaconda3"
  },
  "language_info": {
   "codemirror_mode": {
    "name": "ipython",
    "version": 3
   },
   "file_extension": ".py",
   "mimetype": "text/x-python",
   "name": "python",
   "nbconvert_exporter": "python",
   "pygments_lexer": "ipython3",
   "version": "3.5.1"
  }
 },
 "nbformat": 4,
 "nbformat_minor": 0
}
