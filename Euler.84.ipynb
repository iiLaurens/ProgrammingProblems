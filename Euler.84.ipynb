{
 "cells": [
  {
   "cell_type": "markdown",
   "metadata": {},
   "source": [
    "#Project Euler\n",
    "###Problem 84: Monopoly odds\n",
    "In the game, Monopoly, the standard board is set up in the following way:\n",
    "\n",
    "    GO\tA1\tCC1\tA2\tT1\tR1\tB1\tCH1\tB2\tB3\tJAIL\n",
    "    H2\t \t                                         C1\n",
    "    T2\t \t                                        U1\n",
    "    H1\t \t                                       C2\n",
    "    CH3\t \t                                        C3\n",
    "    R4\t \t                                       R2\n",
    "    G3\t \t                                       D1\n",
    "    CC3\t \t                                       CC2\n",
    "    G2\t \t                                        D2\n",
    "    G1                                            D3\n",
    "    G2J\tF3\tU2\tF2\tF1\tR3\tE3\tE2\tCH2\tE1\tFP\n",
    "A player starts on the GO square and adds the scores on two 6-sided dice to determine the number of squares they advance in a clockwise direction. Without any further rules we would expect to visit each square with equal probability: 2.5%. However, landing on G2J (Go To Jail), CC (community chest), and CH (chance) changes this distribution.\n",
    "\n",
    "In addition to G2J, and one card from each of CC and CH, that orders the player to go directly to jail, if a player rolls three consecutive doubles, they do not advance the result of their 3rd roll. Instead they proceed directly to jail.\n",
    "\n",
    "At the beginning of the game, the CC and CH cards are shuffled. When a player lands on CC or CH they take a card from the top of the respective pile and, after following the instructions, it is returned to the bottom of the pile. There are sixteen cards in each pile, but for the purpose of this problem we are only concerned with cards that order a movement; any instruction not concerned with movement will be ignored and the player will remain on the CC/CH square.\n",
    "\n",
    "Community Chest (2/16 cards):\n",
    "\n",
    "- Advance to GO\n",
    "- Go to JAIL\n",
    "\n",
    "Chance (10/16 cards):\n",
    "1. Advance to GO\n",
    "2. Go to JAIL\n",
    "3. Go to C1\n",
    "4. Go to E3\n",
    "5. Go to H2\n",
    "6. Go to R1\n",
    "7. Go to next R (railway company)\n",
    "8. Go to next R\n",
    "9. Go to next U (utility company)\n",
    "10. Go back 3 squares.\n",
    "\n",
    "The heart of this problem concerns the likelihood of visiting a particular square. That is, the probability of finishing at that square after a roll. For this reason it should be clear that, with the exception of G2J for which the probability of finishing on it is zero, the CH squares will have the lowest probabilities, as 5/8 request a movement to another square, and it is the final square that the player finishes at on each roll that we are interested in. We shall make no distinction between \"Just Visiting\" and being sent to JAIL, and we shall also ignore the rule about requiring a double to \"get out of jail\", assuming that they pay to get out on their next turn.\n",
    "\n",
    "By starting at GO and numbering the squares sequentially from 00 to 39 we can concatenate these two-digit numbers to produce strings that correspond with sets of squares.\n",
    "\n",
    "Statistically it can be shown that the three most popular squares, in order, are JAIL (6.24%) = Square 10, E3 (3.18%) = Square 24, and GO (3.09%) = Square 00. So these three most popular squares can be listed with the six-digit modal string: 102400.\n",
    "\n",
    "If, instead of using two 6-sided dice, two 4-sided dice are used, find the six-digit modal string.\n",
    "___"
   ]
  },
  {
   "cell_type": "code",
   "execution_count": 133,
   "metadata": {
    "collapsed": false
   },
   "outputs": [
    {
     "name": "stdout",
     "output_type": "stream",
     "text": [
      "1000 loops, best of 3: 1.02 ms per loop\n"
     ]
    }
   ],
   "source": [
    "import numpy as np\n",
    "\n",
    "sides = 4\n",
    "roll = np.zeros(2*sides-1)\n",
    "for r1 in range(sides):\n",
    "    for r2 in range(sides):\n",
    "        roll[r1+r2] += 1/(sides**2)\n",
    "\n",
    "P = np.zeros((40,40))\n",
    "\n",
    "for old in range(40):\n",
    "    for r in range(2,2*sides+1):\n",
    "        new = (old+r)%40\n",
    "        if new in [2,17,33]:\n",
    "            P_ = np.zeros(40)\n",
    "            P_[[0,10]] += 1/16\n",
    "            P_[new] += 14/16\n",
    "            P[old] += roll[r-2]*P_\n",
    "        elif new in [7,22,36]:\n",
    "            P_ = np.zeros(40)\n",
    "            P_[[0,10,11,24,39,5]] += 1/16\n",
    "            P_[(new < 12 or new > 28)*12 + (new > 12 and new < 28)*28] += 1/16\n",
    "            P_[(40+new-3)%40] += 1/16\n",
    "            P_[(5+10*((new+5)//10))%40] += 2/16\n",
    "            P_[new] += 6/16\n",
    "            P[old] += roll[r-2]*P_\n",
    "        else:\n",
    "            P[old][(new!=30)*(new-10)+10] += roll[r-2]\n",
    "\n",
    "np.argsort((np.linalg.matrix_power(P,30))[0])[:-4:-1]"
   ]
  },
  {
   "cell_type": "code",
   "execution_count": 131,
   "metadata": {
    "collapsed": false
   },
   "outputs": [],
   "source": [
    "a,b = np.linalg.eig(P)"
   ]
  },
  {
   "cell_type": "code",
   "execution_count": 132,
   "metadata": {
    "collapsed": false
   },
   "outputs": [
    {
     "data": {
      "text/plain": [
       "array([[ 0.00000000+0.j        ,  0.15811388+0.j        ,\n",
       "         0.11998080+0.12347334j, ..., -0.01583340+0.j        ,\n",
       "         0.06476777-0.02143869j,  0.06476777+0.02143869j],\n",
       "       [ 0.00000000+0.j        ,  0.15811388+0.j        ,\n",
       "         0.09611709+0.13667574j, ..., -0.01892875+0.j        ,\n",
       "        -0.00527076+0.00502073j, -0.00527076-0.00502073j],\n",
       "       [ 0.00000000+0.j        ,  0.15811388+0.j        ,\n",
       "         0.06881177+0.14560682j, ..., -0.01509455+0.j        ,\n",
       "        -0.02663481-0.03151874j, -0.02663481+0.03151874j],\n",
       "       ..., \n",
       "       [ 0.00000000+0.j        ,  0.15811388+0.j        ,\n",
       "         0.17132747+0.05899936j, ..., -0.01892875+0.j        ,\n",
       "        -0.00527076+0.00502073j, -0.00527076-0.00502073j],\n",
       "       [ 0.00000000+0.j        ,  0.15811388+0.j        ,\n",
       "         0.15869472+0.08558138j, ..., -0.01514381+0.j        ,\n",
       "        -0.02054130-0.03084673j, -0.02054130+0.03084673j],\n",
       "       [ 0.00000000+0.j        ,  0.15811388+0.j        ,\n",
       "         0.14087962+0.10623443j, ...,  0.04990595+0.j        ,\n",
       "        -0.03895571+0.04726469j, -0.03895571-0.04726469j]])"
      ]
     },
     "execution_count": 132,
     "metadata": {},
     "output_type": "execute_result"
    }
   ],
   "source": [
    "b"
   ]
  },
  {
   "cell_type": "code",
   "execution_count": 107,
   "metadata": {
    "collapsed": false
   },
   "outputs": [
    {
     "name": "stdout",
     "output_type": "stream",
     "text": [
      "0 results in 0\n",
      "1 results in 1\n",
      "2 results in 2\n",
      "3 results in 3\n",
      "4 results in 4\n",
      "5 results in 5\n",
      "6 results in 6\n",
      "7 results in 7\n",
      "8 results in 8\n",
      "9 results in 9\n",
      "10 results in 10\n",
      "11 results in 11\n",
      "12 results in 12\n",
      "13 results in 13\n",
      "14 results in 14\n",
      "15 results in 15\n",
      "16 results in 16\n",
      "17 results in 17\n",
      "18 results in 18\n",
      "19 results in 19\n",
      "20 results in 20\n",
      "21 results in 21\n",
      "22 results in 22\n",
      "23 results in 23\n",
      "24 results in 24\n",
      "25 results in 25\n",
      "26 results in 26\n",
      "27 results in 27\n",
      "28 results in 28\n",
      "29 results in 29\n",
      "30 results in 0\n",
      "31 results in 31\n",
      "32 results in 32\n",
      "33 results in 33\n",
      "34 results in 34\n",
      "35 results in 35\n",
      "36 results in 36\n",
      "37 results in 37\n",
      "38 results in 38\n",
      "39 results in 39\n"
     ]
    }
   ],
   "source": [
    "for i in range(40):\n",
    "    print(i, 'results in',test(i))"
   ]
  },
  {
   "cell_type": "code",
   "execution_count": 5,
   "metadata": {
    "collapsed": false
   },
   "outputs": [
    {
     "data": {
      "text/plain": [
       "array([0, 1, 0, 0, 0])"
      ]
     },
     "execution_count": 5,
     "metadata": {},
     "output_type": "execute_result"
    }
   ],
   "source": [
    "P"
   ]
  },
  {
   "cell_type": "code",
   "execution_count": null,
   "metadata": {
    "collapsed": true
   },
   "outputs": [],
   "source": []
  }
 ],
 "metadata": {
  "kernelspec": {
   "display_name": "Python 3",
   "language": "python",
   "name": "python3"
  },
  "language_info": {
   "codemirror_mode": {
    "name": "ipython",
    "version": 3
   },
   "file_extension": ".py",
   "mimetype": "text/x-python",
   "name": "python",
   "nbconvert_exporter": "python",
   "pygments_lexer": "ipython3",
   "version": "3.4.3"
  }
 },
 "nbformat": 4,
 "nbformat_minor": 0
}
