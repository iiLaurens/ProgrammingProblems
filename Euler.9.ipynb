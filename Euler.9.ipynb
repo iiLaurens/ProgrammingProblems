{
 "cells": [
  {
   "cell_type": "markdown",
   "metadata": {},
   "source": [
    "#Project Euler\n",
    "###Problem 9: Special Pythagorean triplet\n",
    "A Pythagorean triplet is a set of three natural numbers, a < b < c, for which, $$a^2 + b^2 = c^2$$\n",
    "\n",
    "There exists exactly one Pythagorean triplet for which a + b + c = 1000.\n",
    "Find the product abc.\n",
    "___"
   ]
  },
  {
   "cell_type": "markdown",
   "metadata": {
    "collapsed": true
   },
   "source": [
    "First of all note that a triplet can always be scaled by $z$ to form a bigger triplet because, $$a^2 + b^2 = c^2 \\Rightarrow (az)^2 + (bz)^2 = (cz)^2.$$\n",
    "A triplet is primitive if gcd(a,b,c) = 1. A good approach is to find (primitive) triplets whose sum $x = a+b+c$ is such that the mod(1000,x) = 0. In that case case, the triplet can be scaled with $z = \\frac{1000}{x}$ to obtain a triplet with $a + b + c = 1000$.\n",
    "\n",
    "Euclid's formula is a fundamental formula for generating Pythagorean triples given an arbitrary pair of positive integers m and n with m > n.\n",
    "$$a = m^2 - n^2, b = 2mn, c = m^2 + n^2$$\n",
    "Every primitive triple arises from a unique pair of coprime numbers m, n, one of which is even."
   ]
  },
  {
   "cell_type": "code",
   "execution_count": 1,
   "metadata": {
    "collapsed": false
   },
   "outputs": [],
   "source": [
    "from fractions import gcd\n",
    "target = 1000"
   ]
  },
  {
   "cell_type": "markdown",
   "metadata": {},
   "source": [
    "First find the limiting pairs of $m,n$ that we want to try such that the sum is sure to be below the target. $c$ in the triplet grows quickest in these parameters so lets take for ease $c < 1000$. Thus given a $n$ the max $m$ we will look for is $$m^2 + n^2 < 1000 \\Leftrightarrow m < \\lfloor \\sqrt{1000 - n^2} \\rfloor.$$\n",
    "We also preferably want only coprime numbers so make sure gcd(m,n) = 1 and one of them is odd and even."
   ]
  },
  {
   "cell_type": "code",
   "execution_count": 2,
   "metadata": {
    "collapsed": false
   },
   "outputs": [
    {
     "name": "stdout",
     "output_type": "stream",
     "text": [
      "(n,m)= (1, 2) gives triplet (3, 4, 5) with sum 12\n",
      "(n,m)= (1, 4) gives triplet (15, 8, 17) with sum 40\n",
      "Winning triplet is (375.0, 200.0, 425.0) ! The product is 31875000.0\n",
      "(n,m)= (1, 2) gives triplet (3, 4, 5) with sum 12\n",
      "(n,m)= (1, 4) gives triplet (15, 8, 17) with sum 40\n",
      "Winning triplet is (375.0, 200.0, 425.0) ! The product is 31875000.0\n"
     ]
    }
   ],
   "source": [
    "n = 0\n",
    "searching = True\n",
    "\n",
    "while n**2 < target and searching == True:\n",
    "    n += 1\n",
    "    for m in [x for x in range(n+1,int((target-n^2)**0.5),2) if gcd(n,x) == 1]:\n",
    "        a,b,c = (m**2 - n**2, 2*m*n,m**2+n**2)\n",
    "        x = a + b + c\n",
    "        print('(n,m)=',(n,m),'gives triplet',(a, b, c), 'with sum',x)\n",
    "        if target % x == 0:\n",
    "            z = target / x\n",
    "            print('Winning triplet is',(a*z,b*z,c*z),'! The product is',a*b*c*(z**3))\n",
    "            searching = False\n",
    "            break\n",
    "if searching == True: print('No triplet found')"
   ]
  },
  {
   "cell_type": "code",
   "execution_count": null,
   "metadata": {
    "collapsed": true
   },
   "outputs": [],
   "source": []
  }
 ],
 "metadata": {
  "kernelspec": {
   "display_name": "Python 3",
   "language": "python",
   "name": "python3"
  },
  "language_info": {
   "codemirror_mode": {
    "name": "ipython",
    "version": 3
   },
   "file_extension": ".py",
   "mimetype": "text/x-python",
   "name": "python",
   "nbconvert_exporter": "python",
   "pygments_lexer": "ipython3",
   "version": "3.4.3"
  }
 },
 "nbformat": 4,
 "nbformat_minor": 0
}
