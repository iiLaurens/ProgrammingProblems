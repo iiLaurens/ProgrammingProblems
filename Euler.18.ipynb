{
 "cells": [
  {
   "cell_type": "markdown",
   "metadata": {},
   "source": [
    "#Project Euler\n",
    "###Problem 18: Maximum path sum I\n",
    "By starting at the top of the triangle below and moving to adjacent numbers on the row below, the maximum total from top to bottom is 23.\n",
    "\n",
    "       3\n",
    "      7 4\n",
    "     2 4 6\n",
    "    8 5 9 3\n",
    "\n",
    "That is, 3 + 7 + 4 + 9 = 23.\n",
    "\n",
    "Find the maximum total from top to bottom of the triangle below:\n",
    "\n",
    "                   75\n",
    "                  95 64\n",
    "                 17 47 82\n",
    "                18 35 87 10\n",
    "               20 04 82 47 65\n",
    "              19 01 23 75 03 34\n",
    "             88 02 77 73 07 63 67\n",
    "            99 65 04 28 06 16 70 92\n",
    "           41 41 26 56 83 40 80 70 33\n",
    "          41 48 72 33 47 32 37 16 94 29\n",
    "         53 71 44 65 25 43 91 52 97 51 14\n",
    "        70 11 33 28 77 73 17 78 39 68 17 57\n",
    "       91 71 52 38 17 14 91 43 58 50 27 29 48\n",
    "      63 66 04 68 89 53 67 30 73 16 69 87 40 31\n",
    "     04 62 98 27 23 09 70 98 73 93 38 53 60 04 23\n",
    "\n",
    "NOTE: As there are only 16384 routes, it is possible to solve this problem by trying every route. However, Problem 67, is the same challenge with a triangle containing one-hundred rows; it cannot be solved by brute force, and requires a clever method! ;o)\n",
    "___"
   ]
  },
  {
   "cell_type": "markdown",
   "metadata": {},
   "source": [
    "Note that this is just a single source path from top to bottom, with a imaginary node at the bottom that has all bottom numbers as parents. This is a DAG graph, which can be solved efficiently. Note that we want the longest path and not the shortest, so we just make the weights negative.\n",
    "\n",
    "First we need a efficient way to save this in a variable. Let's make a graph with nodes that are described by their row and their place in that row. That is, the top is node[1,1] = 75 and by dropping left, left, right we arrive node[3,2] = 35."
   ]
  },
  {
   "cell_type": "code",
   "execution_count": 20,
   "metadata": {
    "collapsed": false
   },
   "outputs": [],
   "source": [
    "raw = \"\"\"75\n",
    "95 64\n",
    "17 47 82\n",
    "18 35 87 10\n",
    "20 04 82 47 65\n",
    "19 01 23 75 03 34\n",
    "88 02 77 73 07 63 67\n",
    "99 65 04 28 06 16 70 92\n",
    "41 41 26 56 83 40 80 70 33\n",
    "41 48 72 33 47 32 37 16 94 29\n",
    "53 71 44 65 25 43 91 52 97 51 14\n",
    "70 11 33 28 77 73 17 78 39 68 17 57\n",
    "91 71 52 38 17 14 91 43 58 50 27 29 48\n",
    "63 66 04 68 89 53 67 30 73 16 69 87 40 31\n",
    "04 62 98 27 23 09 70 98 73 93 38 53 60 04 23\"\"\"\n",
    "raw = raw.split(\"\\n\")\n",
    "\n",
    "for i in range(len(raw)):\n",
    "    raw[i] = [-int(j) for j in raw[i].split(\" \")]\n",
    "\n",
    "graph = {(-1,0): [(0,0)] ,(len(raw),0): []} # add imaginary first and last nodes\n",
    "weights = {((-1,0),(0,0)): raw[0][0]}\n",
    "sorted_graph = [(-1,0)]\n",
    "\n",
    "for row in range(len(raw)-1):              # first rows\n",
    "    for place in range(len(raw[row])):\n",
    "        graph[(row,place)] = [(row+1,place),(row+1,place+1)]\n",
    "        sorted_graph.append((row,place))\n",
    "for place in range(len(raw)):              # final row\n",
    "    graph[(len(raw)-1,place)] = [(len(raw),0)]\n",
    "    sorted_graph.append((len(raw)-1,place))\n",
    "    \n",
    "for u in graph:\n",
    "    for v in graph[u]:\n",
    "        try:\n",
    "            weights[(u,v)] = raw[v[0]][v[1]]\n",
    "        except:\n",
    "            weights[(u,v)] = 0\n",
    "\n",
    "sorted_graph.append((len(raw),0))"
   ]
  },
  {
   "cell_type": "markdown",
   "metadata": {
    "collapsed": false
   },
   "source": [
    "Note that by linearly ordering by row, then place in an array results in the topological sort of this special type of graph. Now we continue with the shortest path algorithm:\n",
    "\n",
    "1) Initialize dist[] = {INF, INF, ….} and dist[s] = 0 where s is the source vertex.\n",
    "\n",
    "2) Do following for every vertex u in topological order.\n",
    "\n",
    "………..Do following for every adjacent vertex v of u\n",
    "\n",
    "………………if (dist[v] > dist[u] + weight(u, v))\n",
    "\n",
    "………………………dist[v] = dist[u] + weight(u, v)"
   ]
  },
  {
   "cell_type": "code",
   "execution_count": 21,
   "metadata": {
    "collapsed": false
   },
   "outputs": [],
   "source": [
    "# step 1\n",
    "distance = {(-1,0): 0}\n",
    "for vertex in sorted_graph[1:]:\n",
    "    distance[vertex] = 10**10\n",
    "\n",
    "# step 2\n",
    "for u in sorted_graph[:-1]:\n",
    "    for v in graph[u]:\n",
    "        if distance[v] > distance[u] + weights[(u,v)]:\n",
    "            distance[v] = distance[u] + weights[(u,v)]"
   ]
  },
  {
   "cell_type": "code",
   "execution_count": 25,
   "metadata": {
    "collapsed": false
   },
   "outputs": [
    {
     "name": "stdout",
     "output_type": "stream",
     "text": [
      "The answer is 1074\n"
     ]
    }
   ],
   "source": [
    "print 'The answer is', -distance[sorted_graph[-1]]"
   ]
  },
  {
   "cell_type": "code",
   "execution_count": null,
   "metadata": {
    "collapsed": true
   },
   "outputs": [],
   "source": []
  }
 ],
 "metadata": {
  "kernelspec": {
   "display_name": "Python 2",
   "language": "python",
   "name": "python2"
  },
  "language_info": {
   "codemirror_mode": {
    "name": "ipython",
    "version": 2
   },
   "file_extension": ".py",
   "mimetype": "text/x-python",
   "name": "python",
   "nbconvert_exporter": "python",
   "pygments_lexer": "ipython2",
   "version": "2.7.10"
  }
 },
 "nbformat": 4,
 "nbformat_minor": 0
}
