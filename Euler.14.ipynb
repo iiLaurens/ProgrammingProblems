{
 "cells": [
  {
   "cell_type": "markdown",
   "metadata": {},
   "source": [
    "#Project Euler\n",
    "###Problem 14: Longest Collatz sequence\n",
    "The following iterative sequence is defined for the set of positive integers:\n",
    "\n",
    "    n → n/2 (n is even)\n",
    "    n → 3n + 1 (n is odd)\n",
    "\n",
    "Using the rule above and starting with 13, we generate the following sequence:\n",
    "\n",
    "    13 → 40 → 20 → 10 → 5 → 16 → 8 → 4 → 2 → 1\n",
    "It can be seen that this sequence (starting at 13 and finishing at 1) contains 10 terms. Although it has not been proved yet (Collatz Problem), it is thought that all starting numbers finish at 1.\n",
    "\n",
    "Which starting number, under one million, produces the longest chain?\n",
    "\n",
    "**NOTE**: Once the chain starts the terms are allowed to go above one million.\n",
    "___"
   ]
  },
  {
   "cell_type": "markdown",
   "metadata": {},
   "source": [
    "First make a function that gets the next number. Then we make a function that enters a starting function and apply memoization."
   ]
  },
  {
   "cell_type": "code",
   "execution_count": 19,
   "metadata": {
    "collapsed": true
   },
   "outputs": [],
   "source": [
    "%load_ext cython"
   ]
  },
  {
   "cell_type": "code",
   "execution_count": 20,
   "metadata": {
    "collapsed": true
   },
   "outputs": [],
   "source": [
    "%%cython\n",
    "# Memo below million\n",
    "memo = [0] * (10**6)\n",
    "memo[1] = 1\n",
    "\n",
    "# Other memo\n",
    "high_memo = {}"
   ]
  },
  {
   "cell_type": "code",
   "execution_count": 21,
   "metadata": {
    "collapsed": false
   },
   "outputs": [],
   "source": [
    "def next_nr(n,count):    \n",
    "    if n%2 == 0:\n",
    "        n = n/2\n",
    "    else:\n",
    "        n = 3*n + 1\n",
    "    \n",
    "    global memo\n",
    "    \n",
    "    if n >= 10**6: # check which memo to use\n",
    "        if high_memo.get(n,0) == 0:\n",
    "            high_memo[n] = next_nr(n,1)\n",
    "        return count + high_memo[n]\n",
    "    else:\n",
    "        if memo[n] == 0:\n",
    "            memo[n] = next_nr(n,1)\n",
    "        return count + memo[n]"
   ]
  },
  {
   "cell_type": "markdown",
   "metadata": {},
   "source": [
    "Now gow over every number that is not found before yet."
   ]
  },
  {
   "cell_type": "code",
   "execution_count": 22,
   "metadata": {
    "collapsed": false
   },
   "outputs": [
    {
     "name": "stdout",
     "output_type": "stream",
     "text": [
      "Wall time: 1.79 s\n"
     ]
    }
   ],
   "source": [
    "%%time \n",
    "for i in range(1,len(memo)):\n",
    "    if memo[i] == 0:\n",
    "        memo[i] = next_nr(i,1)"
   ]
  },
  {
   "cell_type": "markdown",
   "metadata": {},
   "source": [
    "Now we find the max in the memorized sequence lengths."
   ]
  },
  {
   "cell_type": "code",
   "execution_count": 9,
   "metadata": {
    "collapsed": false
   },
   "outputs": [
    {
     "data": {
      "text/plain": [
       "837799"
      ]
     },
     "execution_count": 9,
     "metadata": {},
     "output_type": "execute_result"
    }
   ],
   "source": [
    "memo.index(max(memo))"
   ]
  },
  {
   "cell_type": "code",
   "execution_count": null,
   "metadata": {
    "collapsed": true
   },
   "outputs": [],
   "source": []
  }
 ],
 "metadata": {
  "kernelspec": {
   "display_name": "Python 2",
   "language": "python",
   "name": "python2"
  },
  "language_info": {
   "codemirror_mode": {
    "name": "ipython",
    "version": 2
   },
   "file_extension": ".py",
   "mimetype": "text/x-python",
   "name": "python",
   "nbconvert_exporter": "python",
   "pygments_lexer": "ipython2",
   "version": "2.7.10"
  }
 },
 "nbformat": 4,
 "nbformat_minor": 0
}
