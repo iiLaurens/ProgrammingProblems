{
 "cells": [
  {
   "cell_type": "markdown",
   "metadata": {},
   "source": [
    "#Project Euler\n",
    "### Problem 4:  Largest palindrome product\n",
    "A palindromic number reads the same both ways. The largest palindrome made from the product of two 2-digit numbers is 9009 = 91 × 99.\n",
    "\n",
    "Find the largest palindrome made from the product of two 3-digit numbers.\n",
    "___"
   ]
  },
  {
   "cell_type": "markdown",
   "metadata": {},
   "source": [
    "Find maximum that is possible with these digits"
   ]
  },
  {
   "cell_type": "code",
   "execution_count": 1,
   "metadata": {
    "collapsed": false
   },
   "outputs": [
    {
     "name": "stdout",
     "output_type": "stream",
     "text": [
      "998001\n"
     ]
    }
   ],
   "source": [
    "digits = 3\n",
    "maximum = int(\"9\" * digits) ** 2\n",
    "print(maximum)"
   ]
  },
  {
   "cell_type": "markdown",
   "metadata": {},
   "source": [
    "Take first half of digits, lower by one and make it a palindrome. This is the highest palindrome possible, given a upper bound."
   ]
  },
  {
   "cell_type": "code",
   "execution_count": 7,
   "metadata": {
    "collapsed": false
   },
   "outputs": [
    {
     "name": "stdout",
     "output_type": "stream",
     "text": [
      "997799\n"
     ]
    }
   ],
   "source": [
    "def lower_palindrome(limit):\n",
    "    left_half = str(int(str(limit)[:digits]) - 1)\n",
    "    right_half= left_half[::-1]\n",
    "    return int(left_half + right_half)\n",
    "\n",
    "max_palindrome = lower_palindrome(maximum)\n",
    "print(max_palindrome)    "
   ]
  },
  {
   "cell_type": "markdown",
   "metadata": {},
   "source": [
    "Now try to find a divisible number with the right amount of digits. Then check if the remainder is also 3 digits. If not continue search for next number."
   ]
  },
  {
   "cell_type": "code",
   "execution_count": 10,
   "metadata": {
    "collapsed": true
   },
   "outputs": [],
   "source": [
    "def factor_palindrome(number):\n",
    "    Lbound = 10**(digits-1)\n",
    "    Ubound = 10**(digits)\n",
    "    for i in range(Lbound, Ubound):\n",
    "        remainder = number % i\n",
    "        devisor   = number // i\n",
    "        if remainder == 0 and devisor >= Lbound and devisor < Ubound:\n",
    "            return (number,i,devisor)\n",
    "    return factor_palindrome(lower_palindrome(number))"
   ]
  },
  {
   "cell_type": "code",
   "execution_count": 11,
   "metadata": {
    "collapsed": false
   },
   "outputs": [
    {
     "name": "stdout",
     "output_type": "stream",
     "text": [
      "(906609, 913, 993)\n"
     ]
    }
   ],
   "source": [
    "answer = factor_palindrome(max_palindrome)\n",
    "print(answer)"
   ]
  },
  {
   "cell_type": "code",
   "execution_count": null,
   "metadata": {
    "collapsed": true
   },
   "outputs": [],
   "source": []
  }
 ],
 "metadata": {
  "kernelspec": {
   "display_name": "Python 3",
   "language": "python",
   "name": "python3"
  },
  "language_info": {
   "codemirror_mode": {
    "name": "ipython",
    "version": 3
   },
   "file_extension": ".py",
   "mimetype": "text/x-python",
   "name": "python",
   "nbconvert_exporter": "python",
   "pygments_lexer": "ipython3",
   "version": "3.4.3"
  }
 },
 "nbformat": 4,
 "nbformat_minor": 0
}
